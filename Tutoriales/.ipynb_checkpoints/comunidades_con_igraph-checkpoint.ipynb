{
 "cells": [
  {
   "cell_type": "markdown",
   "metadata": {},
   "source": [
    "Para instalar el paquete rpy2 en linux, deben tener una version de R actualizada (3.02 o superior) y deben ejecutar en la terminal: 'pip3 install rpy2'. Recuerden que si estan en las maquinas del labo deben agregar el flag '--user' despues de la palabra install (para que se instale en su usuario): 'pip3 install --user rpy2'. "
   ]
  },
  {
   "cell_type": "code",
   "execution_count": 1,
   "metadata": {},
   "outputs": [],
   "source": [
    "import networkx as nx\n",
    "import matplotlib.pylab as plt\n",
    "%matplotlib inline\n",
    "\n",
    "# from rpy2.robjects.packages import importr\n",
    "# igraph = importr('igraph')\n",
    "# import pandas as pd\n",
    "# from rpy2.robjects import r, pandas2ri\n",
    "# a = pandas2ri.py2ri(nx.to_pandas_adjacency(nxG))\n",
    "\n",
    "import os\n",
    "import numpy as np\n",
    "import rpy2.robjects as robjects"
   ]
  },
  {
   "cell_type": "code",
   "execution_count": 2,
   "metadata": {},
   "outputs": [],
   "source": [
    "def community(nxG, algorithm, fig_name = \"G\"):\n",
    "    \"\"\"\n",
    "    In:\n",
    "        nxG: grafo de networkx.\n",
    "        algorithm: string, entre las siguientes opciones: \n",
    "            fast_greedy\n",
    "            edge_betweenness\n",
    "            louvain\n",
    "            infomap\n",
    "        fig_name: nombre de la figura que se genera al clsuterizar. Le agrega automaticamente el nombre del algoritmo usado y el nombre del grafo si lo tuviere\n",
    "    Out:\n",
    "        labels: numpy array con la pertenencia de cada nodo al cluster.\n",
    "    \n",
    "    \"\"\"\n",
    "    gml_file_name = \"G.gml\"\n",
    "    fig_name += \"_\"+nxG.name+\"_\"+algorithm+\".svg\"\n",
    "    nx.write_gml(nxG, gml_file_name)\n",
    "    \n",
    "    igG = robjects.r('''\n",
    "        f <- function(file, algorithm, fig_name){\n",
    "            require(\"igraph\")     \n",
    "            \n",
    "            G <- read_graph(file, \"gml\")\n",
    "            #format = c(\"edgelist\", \"pajek\", \"ncol\", \"lgl\", \"graphml\",\"dimacs\", \"graphdb\", \"gml\", \"dl\"), ...)\n",
    "            \n",
    "            if(algorithm == \"fast_greedy\"){\n",
    "                c <- cluster_fast_greedy(G, \n",
    "                    merges = TRUE, \n",
    "                    modularity = TRUE, \n",
    "                    membership = TRUE)\n",
    "            }\n",
    "            \n",
    "            if(algorithm == \"edge_betweenness\"){\n",
    "                c <- cluster_edge_betweenness(G,directed = FALSE,edge.betweenness = TRUE)\n",
    "            }\n",
    "            \n",
    "            if(algorithm == \"louvain\"){\n",
    "                c <- cluster_louvain(G)\n",
    "            }\n",
    "            \n",
    "            if(algorithm == \"infomap\"){\n",
    "                c <- cluster_infomap(G)\n",
    "            }\n",
    "            \n",
    "            svg(fig_name)\n",
    "            plot(c, G)\n",
    "            dev.off()\n",
    "            \n",
    "            return(membership(c))\n",
    "        }\n",
    "    ''')\n",
    "    \n",
    "    labels = igG(gml_file_name, algorithm, fig_name)\n",
    "    os.remove(gml_file_name)\n",
    "    return np.array(labels)\n",
    "\n"
   ]
  },
  {
   "cell_type": "code",
   "execution_count": 3,
   "metadata": {},
   "outputs": [
    {
     "name": "stdout",
     "output_type": "stream",
     "text": [
      "Help on function community in module __main__:\n",
      "\n",
      "community(nxG, algorithm, fig_name='G')\n",
      "    In:\n",
      "        nxG: grafo de networkx.\n",
      "        algorithm: string, entre las siguientes opciones: \n",
      "            fast_greedy\n",
      "            edge_betweenness\n",
      "            louvain\n",
      "            infomap\n",
      "        fig_name: nombre de la figura que se genera al clsuterizar. Le agrega automaticamente el nombre del algoritmo usado y el nombre del grafo si lo tuviere\n",
      "    Out:\n",
      "        labels: numpy array con la pertenencia de cada nodo al cluster.\n",
      "\n"
     ]
    }
   ],
   "source": [
    "help(community)"
   ]
  },
  {
   "cell_type": "code",
   "execution_count": 4,
   "metadata": {},
   "outputs": [
    {
     "data": {
      "text/plain": [
       "Text(0.5,1,'Random')"
      ]
     },
     "execution_count": 4,
     "metadata": {},
     "output_type": "execute_result"
    },
    {
     "data": {
      "image/png": "[encoded data removed]",
      "text/plain": [
       "<matplotlib.figure.Figure at 0x7fcf2fa21390>"
      ]
     },
     "metadata": {
      "needs_background": "light"
     },
     "output_type": "display_data"
    }
   ],
   "source": [
    "nxG = nx.gnp_random_graph(100, 0.02, seed=None, directed=False)\n",
    "nxG.name = \"Random\"\n",
    "\n",
    "nx.draw_networkx(nxG)\n",
    "plt.axis(\"off\")\n",
    "plt.title(nxG.name)"
   ]
  },
  {
   "cell_type": "code",
   "execution_count": 6,
   "metadata": {},
   "outputs": [
    {
     "ename": "ModuleNotFoundError",
     "evalue": "No module named 'igraph'",
     "output_type": "error",
     "traceback": [
      "\u001b[0;31m--------------------------------------------------------------------------\u001b[0m",
      "\u001b[0;31mModuleNotFoundError\u001b[0m                      Traceback (most recent call last)",
      "\u001b[0;32m<ipython-input-6-c3e8b6dccbe7>\u001b[0m in \u001b[0;36m<module>\u001b[0;34m()\u001b[0m\n\u001b[0;32m----> 1\u001b[0;31m \u001b[0;32mimport\u001b[0m \u001b[0migraph\u001b[0m \u001b[0;32mas\u001b[0m \u001b[0migraph\u001b[0m\u001b[0;34m\u001b[0m\u001b[0m\n\u001b[0m\u001b[1;32m      2\u001b[0m \u001b[0;32mimport\u001b[0m \u001b[0mnetworkx\u001b[0m \u001b[0;32mas\u001b[0m \u001b[0mnx\u001b[0m\u001b[0;34m\u001b[0m\u001b[0m\n\u001b[1;32m      3\u001b[0m \u001b[0;34m\u001b[0m\u001b[0m\n\u001b[1;32m      4\u001b[0m \u001b[0;32mdef\u001b[0m \u001b[0mclusterize\u001b[0m\u001b[0;34m(\u001b[0m\u001b[0mnx_Graph\u001b[0m\u001b[0;34m,\u001b[0m \u001b[0mmethod\u001b[0m\u001b[0;34m=\u001b[0m\u001b[0;34m\"infomap\"\u001b[0m\u001b[0;34m)\u001b[0m\u001b[0;34m:\u001b[0m\u001b[0;34m\u001b[0m\u001b[0m\n\u001b[1;32m      5\u001b[0m     \"\"\"\n",
      "\u001b[0;31mModuleNotFoundError\u001b[0m: No module named 'igraph'"
     ]
    }
   ],
   "source": [
    "import igraph as igraph\n",
    "import networkx as nx\n",
    "\n",
    "def clusterize(nx_Graph, method=\"infomap\"):\n",
    "    \"\"\"\n",
    "    Calcula el agrupamiento en comunidades de un grafo.\n",
    "    \n",
    "    In:\n",
    "        nx_Graph: grafo de networkx\n",
    "        method: metodo de clustering, puede ser: \"infomap\", \"fastgreedy\", \"eigenvector\", \"louvain\", \"edge_betweenness\",\"label_prop\", \"walktrap\", \"\"\n",
    "        \n",
    "    Out:\n",
    "        labels_dict: diccionario de nodo : a label al cluster al que pertenece.\n",
    "    \"\"\"\n",
    "    if method == \"edge_betweenness\":\n",
    "        nx_Graph = max(nx.connected_component_subgraphs(nx_Graph), key=len)#se queda con la componente más grande.\n",
    "        print(\"AVISO: restringiendo a la componente connexa más grade. De otro modo falla el algoritmo de detección de comunidades edge_betweenness.\")\n",
    "    \n",
    "    isdirected = nx.is_directed(nx_Graph)\n",
    "    np_adj_list = nx.to_numpy_matrix(nx_Graph)\n",
    "    g = igraph.Graph.Weighted_Adjacency(np_adj_list.tolist(),mode=igraph.ADJ_UPPER)\n",
    "   \n",
    "    if method==\"infomap\":\n",
    "        labels = g.community_infomap(edge_weights=\"weight\").membership\n",
    "    if method==\"label_prop\":\n",
    "        labels = g.community_label_propagation(weights=\"weight\").membership\n",
    "    if method==\"fastgreedy\":\n",
    "        labels = g.community_fastgreedy(weights=\"weight\").as_clustering().membership\n",
    "    if method==\"eigenvector\":\n",
    "        labels = g.community_leading_eigenvector(weights=\"weight\").membership\n",
    "    if method==\"louvain\":\n",
    "        labels = g.community_multilevel(weights=\"weight\").membership\n",
    "    if method==\"edge_betweenness\":\n",
    "        labels = g.community_edge_betweenness(weights=\"weight\", directed=isdirected).as_clustering().membership\n",
    "    if method==\"walktrap\":\n",
    "        labels = g.community_walktrap(weights=\"weight\").as_clustering().membership\n",
    "    \n",
    "    label_dict = {node:label for node,label in zip(nx_Graph.nodes(), labels)}\n",
    "    return label_dict"
   ]
  },
  {
   "cell_type": "code",
   "execution_count": 5,
   "metadata": {},
   "outputs": [
    {
     "name": "stderr",
     "output_type": "stream",
     "text": [
      "/home/gaston/anaconda3/lib/python3.6/site-packages/rpy2/rinterface/__init__.py:146: RRuntimeWarning: Loading required package: igraph\n",
      "\n",
      "  warnings.warn(x, RRuntimeWarning)\n",
      "/home/gaston/anaconda3/lib/python3.6/site-packages/rpy2/rinterface/__init__.py:146: RRuntimeWarning: Error in read_graph(file, \"gml\") : \n",
      "  no se pudo encontrar la función \"read_graph\"\n",
      "\n",
      "  warnings.warn(x, RRuntimeWarning)\n",
      "/home/gaston/anaconda3/lib/python3.6/site-packages/rpy2/rinterface/__init__.py:146: RRuntimeWarning: Además: \n",
      "  warnings.warn(x, RRuntimeWarning)\n",
      "/home/gaston/anaconda3/lib/python3.6/site-packages/rpy2/rinterface/__init__.py:146: RRuntimeWarning: Warning message:\n",
      "\n",
      "  warnings.warn(x, RRuntimeWarning)\n",
      "/home/gaston/anaconda3/lib/python3.6/site-packages/rpy2/rinterface/__init__.py:146: RRuntimeWarning: In library(package, lib.loc = lib.loc, character.only = TRUE, logical.return = TRUE,  :\n",
      "  warnings.warn(x, RRuntimeWarning)\n",
      "/home/gaston/anaconda3/lib/python3.6/site-packages/rpy2/rinterface/__init__.py:146: RRuntimeWarning: \n",
      " \n",
      "  warnings.warn(x, RRuntimeWarning)\n",
      "/home/gaston/anaconda3/lib/python3.6/site-packages/rpy2/rinterface/__init__.py:146: RRuntimeWarning:  there is no package called ‘igraph’\n",
      "\n",
      "  warnings.warn(x, RRuntimeWarning)\n"
     ]
    },
    {
     "ename": "RRuntimeError",
     "evalue": "Error in read_graph(file, \"gml\") : \n  no se pudo encontrar la función \"read_graph\"\n",
     "output_type": "error",
     "traceback": [
      "\u001b[0;31m--------------------------------------------------------------------------\u001b[0m",
      "\u001b[0;31mRRuntimeError\u001b[0m                            Traceback (most recent call last)",
      "\u001b[0;32m<ipython-input-5-cd41b8a35e35>\u001b[0m in \u001b[0;36m<module>\u001b[0;34m()\u001b[0m\n\u001b[0;32m----> 1\u001b[0;31m \u001b[0mlabels_infomap\u001b[0m \u001b[0;34m=\u001b[0m \u001b[0mcommunity\u001b[0m\u001b[0;34m(\u001b[0m\u001b[0mnxG\u001b[0m\u001b[0;34m,\u001b[0m \u001b[0;34m\"infomap\"\u001b[0m\u001b[0;34m)\u001b[0m\u001b[0;34m\u001b[0m\u001b[0m\n\u001b[0m\u001b[1;32m      2\u001b[0m \u001b[0mlabels_infomap\u001b[0m \u001b[0;34m=\u001b[0m \u001b[0mcommunity\u001b[0m\u001b[0;34m(\u001b[0m\u001b[0mnxG\u001b[0m\u001b[0;34m,\u001b[0m \u001b[0;34m\"fast_greedy\"\u001b[0m\u001b[0;34m)\u001b[0m\u001b[0;34m\u001b[0m\u001b[0m\n\u001b[1;32m      3\u001b[0m \u001b[0mlabels_infomap\u001b[0m \u001b[0;34m=\u001b[0m \u001b[0mcommunity\u001b[0m\u001b[0;34m(\u001b[0m\u001b[0mnxG\u001b[0m\u001b[0;34m,\u001b[0m \u001b[0;34m\"edge_betweenness\"\u001b[0m\u001b[0;34m)\u001b[0m\u001b[0;34m\u001b[0m\u001b[0m\n\u001b[1;32m      4\u001b[0m \u001b[0mlabels_infomap\u001b[0m \u001b[0;34m=\u001b[0m \u001b[0mcommunity\u001b[0m\u001b[0;34m(\u001b[0m\u001b[0mnxG\u001b[0m\u001b[0;34m,\u001b[0m \u001b[0;34m\"louvain\"\u001b[0m\u001b[0;34m)\u001b[0m\u001b[0;34m\u001b[0m\u001b[0m\n",
      "\u001b[0;32m<ipython-input-2-07633c29b220>\u001b[0m in \u001b[0;36mcommunity\u001b[0;34m(nxG, algorithm, fig_name)\u001b[0m\n\u001b[1;32m     51\u001b[0m     ''')\n\u001b[1;32m     52\u001b[0m \u001b[0;34m\u001b[0m\u001b[0m\n\u001b[0;32m---> 53\u001b[0;31m     \u001b[0mlabels\u001b[0m \u001b[0;34m=\u001b[0m \u001b[0migG\u001b[0m\u001b[0;34m(\u001b[0m\u001b[0mgml_file_name\u001b[0m\u001b[0;34m,\u001b[0m \u001b[0malgorithm\u001b[0m\u001b[0;34m,\u001b[0m \u001b[0mfig_name\u001b[0m\u001b[0;34m)\u001b[0m\u001b[0;34m\u001b[0m\u001b[0m\n\u001b[0m\u001b[1;32m     54\u001b[0m     \u001b[0mos\u001b[0m\u001b[0;34m.\u001b[0m\u001b[0mremove\u001b[0m\u001b[0;34m(\u001b[0m\u001b[0mgml_file_name\u001b[0m\u001b[0;34m)\u001b[0m\u001b[0;34m\u001b[0m\u001b[0m\n\u001b[1;32m     55\u001b[0m     \u001b[0;32mreturn\u001b[0m \u001b[0mnp\u001b[0m\u001b[0;34m.\u001b[0m\u001b[0marray\u001b[0m\u001b[0;34m(\u001b[0m\u001b[0mlabels\u001b[0m\u001b[0;34m)\u001b[0m\u001b[0;34m\u001b[0m\u001b[0m\n",
      "\u001b[0;32m~/anaconda3/lib/python3.6/site-packages/rpy2/robjects/functions.py\u001b[0m in \u001b[0;36m__call__\u001b[0;34m(self, *args, **kwargs)\u001b[0m\n\u001b[1;32m    176\u001b[0m                 \u001b[0mv\u001b[0m \u001b[0;34m=\u001b[0m \u001b[0mkwargs\u001b[0m\u001b[0;34m.\u001b[0m\u001b[0mpop\u001b[0m\u001b[0;34m(\u001b[0m\u001b[0mk\u001b[0m\u001b[0;34m)\u001b[0m\u001b[0;34m\u001b[0m\u001b[0m\n\u001b[1;32m    177\u001b[0m                 \u001b[0mkwargs\u001b[0m\u001b[0;34m[\u001b[0m\u001b[0mr_k\u001b[0m\u001b[0;34m]\u001b[0m \u001b[0;34m=\u001b[0m \u001b[0mv\u001b[0m\u001b[0;34m\u001b[0m\u001b[0m\n\u001b[0;32m--> 178\u001b[0;31m         \u001b[0;32mreturn\u001b[0m \u001b[0msuper\u001b[0m\u001b[0;34m(\u001b[0m\u001b[0mSignatureTranslatedFunction\u001b[0m\u001b[0;34m,\u001b[0m \u001b[0mself\u001b[0m\u001b[0;34m)\u001b[0m\u001b[0;34m.\u001b[0m\u001b[0m__call__\u001b[0m\u001b[0;34m(\u001b[0m\u001b[0;34m*\u001b[0m\u001b[0margs\u001b[0m\u001b[0;34m,\u001b[0m \u001b[0;34m**\u001b[0m\u001b[0mkwargs\u001b[0m\u001b[0;34m)\u001b[0m\u001b[0;34m\u001b[0m\u001b[0m\n\u001b[0m\u001b[1;32m    179\u001b[0m \u001b[0;34m\u001b[0m\u001b[0m\n\u001b[1;32m    180\u001b[0m \u001b[0mpattern_link\u001b[0m \u001b[0;34m=\u001b[0m \u001b[0mre\u001b[0m\u001b[0;34m.\u001b[0m\u001b[0mcompile\u001b[0m\u001b[0;34m(\u001b[0m\u001b[0;34mr'\\\\link\\{(.+?)\\}'\u001b[0m\u001b[0;34m)\u001b[0m\u001b[0;34m\u001b[0m\u001b[0m\n",
      "\u001b[0;32m~/anaconda3/lib/python3.6/site-packages/rpy2/robjects/functions.py\u001b[0m in \u001b[0;36m__call__\u001b[0;34m(self, *args, **kwargs)\u001b[0m\n\u001b[1;32m    104\u001b[0m         \u001b[0;32mfor\u001b[0m \u001b[0mk\u001b[0m\u001b[0;34m,\u001b[0m \u001b[0mv\u001b[0m \u001b[0;32min\u001b[0m \u001b[0mkwargs\u001b[0m\u001b[0;34m.\u001b[0m\u001b[0mitems\u001b[0m\u001b[0;34m(\u001b[0m\u001b[0;34m)\u001b[0m\u001b[0;34m:\u001b[0m\u001b[0;34m\u001b[0m\u001b[0m\n\u001b[1;32m    105\u001b[0m             \u001b[0mnew_kwargs\u001b[0m\u001b[0;34m[\u001b[0m\u001b[0mk\u001b[0m\u001b[0;34m]\u001b[0m \u001b[0;34m=\u001b[0m \u001b[0mconversion\u001b[0m\u001b[0;34m.\u001b[0m\u001b[0mpy2ri\u001b[0m\u001b[0;34m(\u001b[0m\u001b[0mv\u001b[0m\u001b[0;34m)\u001b[0m\u001b[0;34m\u001b[0m\u001b[0m\n\u001b[0;32m--> 106\u001b[0;31m         \u001b[0mres\u001b[0m \u001b[0;34m=\u001b[0m \u001b[0msuper\u001b[0m\u001b[0;34m(\u001b[0m\u001b[0mFunction\u001b[0m\u001b[0;34m,\u001b[0m \u001b[0mself\u001b[0m\u001b[0;34m)\u001b[0m\u001b[0;34m.\u001b[0m\u001b[0m__call__\u001b[0m\u001b[0;34m(\u001b[0m\u001b[0;34m*\u001b[0m\u001b[0mnew_args\u001b[0m\u001b[0;34m,\u001b[0m \u001b[0;34m**\u001b[0m\u001b[0mnew_kwargs\u001b[0m\u001b[0;34m)\u001b[0m\u001b[0;34m\u001b[0m\u001b[0m\n\u001b[0m\u001b[1;32m    107\u001b[0m         \u001b[0mres\u001b[0m \u001b[0;34m=\u001b[0m \u001b[0mconversion\u001b[0m\u001b[0;34m.\u001b[0m\u001b[0mri2ro\u001b[0m\u001b[0;34m(\u001b[0m\u001b[0mres\u001b[0m\u001b[0;34m)\u001b[0m\u001b[0;34m\u001b[0m\u001b[0m\n\u001b[1;32m    108\u001b[0m         \u001b[0;32mreturn\u001b[0m \u001b[0mres\u001b[0m\u001b[0;34m\u001b[0m\u001b[0m\n",
      "\u001b[0;31mRRuntimeError\u001b[0m: Error in read_graph(file, \"gml\") : \n  no se pudo encontrar la función \"read_graph\"\n"
     ]
    }
   ],
   "source": [
    "labels_infomap = community(nxG, \"infomap\")\n",
    "labels_infomap = community(nxG, \"fast_greedy\")\n",
    "labels_infomap = community(nxG, \"edge_betweenness\")\n",
    "labels_infomap = community(nxG, \"louvain\")"
   ]
  },
  {
   "cell_type": "markdown",
   "metadata": {},
   "source": [
    "Les sugerimos implementar el algoritmo para calcular silhuette, pero tambien puede chequear los algoritmos existentes: http://scikit-learn.org/stable/auto_examples/cluster/plot_kmeans_silhouette_analysis.html"
   ]
  }
 ],
 "metadata": {
  "kernelspec": {
   "display_name": "Python 3",
   "language": "python",
   "name": "python3"
  }
 },
 "nbformat": 4,
 "nbformat_minor": 2
}
