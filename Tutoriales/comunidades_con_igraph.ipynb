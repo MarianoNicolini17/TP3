{
 "cells": [
  {
   "cell_type": "markdown",
   "metadata": {},
   "source": [
    "Para instalar el paquete rpy2 en linux, deben tener una version de R actualizada (3.02 o superior) y deben ejecutar en la terminal: 'pip3 install rpy2'. Recuerden que si estan en las maquinas del labo deben agregar el flag '--user' despues de la palabra install (para que se instale en su usuario): 'pip3 install --user rpy2'. "
   ]
  },
  {
   "cell_type": "code",
   "execution_count": 1,
   "metadata": {},
   "outputs": [],
   "source": [
    "import networkx as nx\n",
    "import matplotlib.pylab as plt\n",
    "%matplotlib inline\n",
    "\n",
    "# from rpy2.robjects.packages import importr\n",
    "# igraph = importr('igraph')\n",
    "# import pandas as pd\n",
    "# from rpy2.robjects import r, pandas2ri\n",
    "# a = pandas2ri.py2ri(nx.to_pandas_adjacency(nxG))\n",
    "\n",
    "import os\n",
    "import numpy as np\n",
    "import rpy2.robjects as robjects"
   ]
  },
  {
   "cell_type": "code",
   "execution_count": 2,
   "metadata": {},
   "outputs": [],
   "source": [
    "def community(nxG, algorithm, fig_name = \"G\"):\n",
    "    \"\"\"\n",
    "    In:\n",
    "        nxG: grafo de networkx.\n",
    "        algorithm: string, entre las siguientes opciones: \n",
    "            fast_greedy\n",
    "            edge_betweenness\n",
    "            louvain\n",
    "            infomap\n",
    "        fig_name: nombre de la figura que se genera al clsuterizar. Le agrega automaticamente el nombre del algoritmo usado y el nombre del grafo si lo tuviere\n",
    "    Out:\n",
    "        labels: numpy array con la pertenencia de cada nodo al cluster.\n",
    "    \n",
    "    \"\"\"\n",
    "    gml_file_name = \"G.gml\"\n",
    "    fig_name += \"_\"+nxG.name+\"_\"+algorithm+\".svg\"\n",
    "    nx.write_gml(nxG, gml_file_name)\n",
    "    \n",
    "    igG = robjects.r('''\n",
    "        f <- function(file, algorithm, fig_name){\n",
    "            require(\"igraph\")     \n",
    "            \n",
    "            G <- read_graph(file, \"gml\")\n",
    "            #format = c(\"edgelist\", \"pajek\", \"ncol\", \"lgl\", \"graphml\",\"dimacs\", \"graphdb\", \"gml\", \"dl\"), ...)\n",
    "            \n",
    "            if(algorithm == \"fast_greedy\"){\n",
    "                c <- cluster_fast_greedy(G, \n",
    "                    merges = TRUE, \n",
    "                    modularity = TRUE, \n",
    "                    membership = TRUE)\n",
    "            }\n",
    "            \n",
    "            if(algorithm == \"edge_betweenness\"){\n",
    "                c <- cluster_edge_betweenness(G,directed = FALSE,edge.betweenness = TRUE)\n",
    "            }\n",
    "            \n",
    "            if(algorithm == \"louvain\"){\n",
    "                c <- cluster_louvain(G)\n",
    "            }\n",
    "            \n",
    "            if(algorithm == \"infomap\"){\n",
    "                c <- cluster_infomap(G)\n",
    "            }\n",
    "            \n",
    "            svg(fig_name)\n",
    "            plot(c, G)\n",
    "            dev.off()\n",
    "            \n",
    "            return(membership(c))\n",
    "        }\n",
    "    ''')\n",
    "    \n",
    "    labels = igG(gml_file_name, algorithm, fig_name)\n",
    "    os.remove(gml_file_name)\n",
    "    return np.array(labels)\n",
    "\n"
   ]
  },
  {
   "cell_type": "code",
   "execution_count": 3,
   "metadata": {},
   "outputs": [
    {
     "name": "stdout",
     "output_type": "stream",
     "text": [
      "Help on function community in module __main__:\n",
      "\n",
      "community(nxG, algorithm, fig_name='G')\n",
      "    In:\n",
      "        nxG: grafo de networkx.\n",
      "        algorithm: string, entre las siguientes opciones: \n",
      "            fast_greedy\n",
      "            edge_betweenness\n",
      "            louvain\n",
      "            infomap\n",
      "        fig_name: nombre de la figura que se genera al clsuterizar. Le agrega automaticamente el nombre del algoritmo usado y el nombre del grafo si lo tuviere\n",
      "    Out:\n",
      "        labels: numpy array con la pertenencia de cada nodo al cluster.\n",
      "\n"
     ]
    }
   ],
   "source": [
    "help(community)"
   ]
  },
  {
   "cell_type": "code",
   "execution_count": 4,
   "metadata": {},
   "outputs": [
    {
     "data": {
      "text/plain": [
       "Text(0.5,1,'Random')"
      ]
     },
     "execution_count": 4,
     "metadata": {},
     "output_type": "execute_result"
    },
    {
     "data": {
      "image/png": "[encoded data removed]",
      "text/plain": [
       "<matplotlib.figure.Figure at 0x7fc8ae5214a8>"
      ]
     },
     "metadata": {
      "needs_background": "light"
     },
     "output_type": "display_data"
    }
   ],
   "source": [
    "nxG = nx.gnp_random_graph(100, 0.02, seed=None, directed=False)\n",
    "nxG.name = \"Random\"\n",
    "\n",
    "nx.draw_networkx(nxG)\n",
    "plt.axis(\"off\")\n",
    "plt.title(nxG.name)"
   ]
  },
  {
   "cell_type": "code",
   "execution_count": 5,
   "metadata": {},
   "outputs": [],
   "source": [
    "import igraph as igraph\n",
    "import networkx as nx\n",
    "\n",
    "def clusterize(nx_Graph, method=\"infomap\"):\n",
    "    \"\"\"\n",
    "    Calcula el agrupamiento en comunidades de un grafo.\n",
    "    \n",
    "    In:\n",
    "        nx_Graph: grafo de networkx\n",
    "        method: metodo de clustering, puede ser: \"infomap\", \"fastgreedy\", \"eigenvector\", \"louvain\", \"edge_betweenness\",\"label_prop\", \"walktrap\", \"\"\n",
    "        \n",
    "    Out:\n",
    "        labels_dict: diccionario de nodo : a label al cluster al que pertenece.\n",
    "    \"\"\"\n",
    "    if method == \"edge_betweenness\":\n",
    "        nx_Graph = max(nx.connected_component_subgraphs(nx_Graph), key=len)#se queda con la componente más grande.\n",
    "        print(\"AVISO: restringiendo a la componente connexa más grade. De otro modo falla el algoritmo de detección de comunidades edge_betweenness.\")\n",
    "    \n",
    "    isdirected = nx.is_directed(nx_Graph)\n",
    "    np_adj_list = nx.to_numpy_matrix(nx_Graph)\n",
    "    g = igraph.Graph.Weighted_Adjacency(np_adj_list.tolist(),mode=igraph.ADJ_UPPER)\n",
    "   \n",
    "    if method==\"infomap\":\n",
    "        labels = g.community_infomap(edge_weights=\"weight\").membership\n",
    "    if method==\"label_prop\":\n",
    "        labels = g.community_label_propagation(weights=\"weight\").membership\n",
    "    if method==\"fastgreedy\":\n",
    "        labels = g.community_fastgreedy(weights=\"weight\").as_clustering().membership\n",
    "    if method==\"eigenvector\":\n",
    "        labels = g.community_leading_eigenvector(weights=\"weight\").membership\n",
    "    if method==\"louvain\":\n",
    "        labels = g.community_multilevel(weights=\"weight\").membership\n",
    "    if method==\"edge_betweenness\":\n",
    "        labels = g.community_edge_betweenness(weights=\"weight\", directed=isdirected).as_clustering().membership\n",
    "    if method==\"walktrap\":\n",
    "        labels = g.community_walktrap(weights=\"weight\").as_clustering().membership\n",
    "    \n",
    "    label_dict = {node:label for node,label in zip(nx_Graph.nodes(), labels)}\n",
    "    return label_dict"
   ]
  },
  {
   "cell_type": "code",
   "execution_count": 9,
   "metadata": {},
   "outputs": [],
   "source": [
    "#labels_infomap = community(nxG, \"infomap\")\n",
    "#labels_infomap = community(nxG, \"fast_greedy\")\n",
    "#labels_infomap = community(nxG, \"edge_betweenness\")\n",
    "#labels_infomap = community(nxG, \"louvain\")\n",
    "lab_louvain = clusterize(nxG, \"louvain\")\n"
   ]
  },
  {
   "cell_type": "code",
   "execution_count": 10,
   "metadata": {},
   "outputs": [
    {
     "data": {
      "text/plain": [
       "{0: 24,\n",
       " 1: 18,\n",
       " 2: 10,\n",
       " 3: 3,\n",
       " 4: 9,\n",
       " 5: 24,\n",
       " 6: 18,\n",
       " 7: 19,\n",
       " 8: 5,\n",
       " 9: 23,\n",
       " 10: 13,\n",
       " 11: 10,\n",
       " 12: 24,\n",
       " 13: 18,\n",
       " 14: 13,\n",
       " 15: 0,\n",
       " 16: 25,\n",
       " 17: 1,\n",
       " 18: 18,\n",
       " 19: 25,\n",
       " 20: 13,\n",
       " 21: 16,\n",
       " 22: 16,\n",
       " 23: 13,\n",
       " 24: 10,\n",
       " 25: 2,\n",
       " 26: 17,\n",
       " 27: 13,\n",
       " 28: 3,\n",
       " 29: 4,\n",
       " 30: 23,\n",
       " 31: 16,\n",
       " 32: 23,\n",
       " 33: 10,\n",
       " 34: 5,\n",
       " 35: 16,\n",
       " 36: 19,\n",
       " 37: 24,\n",
       " 38: 16,\n",
       " 39: 16,\n",
       " 40: 16,\n",
       " 41: 18,\n",
       " 42: 19,\n",
       " 43: 10,\n",
       " 44: 10,\n",
       " 45: 16,\n",
       " 46: 23,\n",
       " 47: 10,\n",
       " 48: 6,\n",
       " 49: 7,\n",
       " 50: 8,\n",
       " 51: 9,\n",
       " 52: 10,\n",
       " 53: 10,\n",
       " 54: 10,\n",
       " 55: 15,\n",
       " 56: 24,\n",
       " 57: 25,\n",
       " 58: 16,\n",
       " 59: 10,\n",
       " 60: 19,\n",
       " 61: 11,\n",
       " 62: 24,\n",
       " 63: 19,\n",
       " 64: 16,\n",
       " 65: 19,\n",
       " 66: 12,\n",
       " 67: 24,\n",
       " 68: 23,\n",
       " 69: 19,\n",
       " 70: 23,\n",
       " 71: 16,\n",
       " 72: 25,\n",
       " 73: 23,\n",
       " 74: 24,\n",
       " 75: 23,\n",
       " 76: 21,\n",
       " 77: 14,\n",
       " 78: 15,\n",
       " 79: 17,\n",
       " 80: 16,\n",
       " 81: 10,\n",
       " 82: 17,\n",
       " 83: 18,\n",
       " 84: 18,\n",
       " 85: 13,\n",
       " 86: 18,\n",
       " 87: 19,\n",
       " 88: 13,\n",
       " 89: 20,\n",
       " 90: 21,\n",
       " 91: 23,\n",
       " 92: 10,\n",
       " 93: 23,\n",
       " 94: 22,\n",
       " 95: 16,\n",
       " 96: 23,\n",
       " 97: 19,\n",
       " 98: 24,\n",
       " 99: 25}"
      ]
     },
     "execution_count": 10,
     "metadata": {},
     "output_type": "execute_result"
    }
   ],
   "source": [
    "lab_louvain"
   ]
  },
  {
   "cell_type": "markdown",
   "metadata": {},
   "source": [
    "Les sugerimos implementar el algoritmo para calcular silhuette, pero tambien puede chequear los algoritmos existentes: http://scikit-learn.org/stable/auto_examples/cluster/plot_kmeans_silhouette_analysis.html"
   ]
  }
 ],
 "metadata": {
  "kernelspec": {
   "display_name": "Python 3",
   "language": "python",
   "name": "python3"
  },
  "language_info": {
   "codemirror_mode": {
    "name": "ipython",
    "version": 3
   },
   "file_extension": ".py",
   "mimetype": "text/x-python",
   "name": "python",
   "nbconvert_exporter": "python",
   "pygments_lexer": "ipython3",
   "version": "3.6.6"
  }
 },
 "nbformat": 4,
 "nbformat_minor": 2
}
